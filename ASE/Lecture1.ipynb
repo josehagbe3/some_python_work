{
 "cells": [
  {
   "cell_type": "code",
   "execution_count": 1,
   "id": "9eda23b2",
   "metadata": {},
   "outputs": [
    {
     "data": {
      "text/plain": [
       "'mum said: \"she is coming\"'"
      ]
     },
     "execution_count": 1,
     "metadata": {},
     "output_type": "execute_result"
    }
   ],
   "source": [
    "'mum said: \"she is coming\"'"
   ]
  },
  {
   "cell_type": "code",
   "execution_count": 3,
   "id": "68768386",
   "metadata": {},
   "outputs": [],
   "source": [
    " a = -10"
   ]
  },
  {
   "cell_type": "code",
   "execution_count": 4,
   "id": "0e3618ea",
   "metadata": {},
   "outputs": [
    {
     "data": {
      "text/plain": [
       "int"
      ]
     },
     "execution_count": 4,
     "metadata": {},
     "output_type": "execute_result"
    }
   ],
   "source": [
    "type(a)"
   ]
  },
  {
   "cell_type": "code",
   "execution_count": 9,
   "id": "cc853838",
   "metadata": {},
   "outputs": [
    {
     "name": "stdout",
     "output_type": "stream",
     "text": [
      " Enter your name:Juan\n",
      "How old are you?: 27\n",
      "Who is your girl friend? Carelle\n",
      "How old is her ? 22\n",
      "I m Juan and I m 27 old, Carelle is my girl friend and she is 22 old\n"
     ]
    }
   ],
   "source": [
    "name = input(\" Enter your name:\")\n",
    "age = int(input(\"How old are you?: \"))\n",
    "g_friend = input(\"Who is your girl friend? \")\n",
    "g_age = int(input(\"How old is her ? \"))\n",
    "\n",
    "print(\"I m\", name, \"and I m\", age, \"old,\", g_friend, \"is my girl friend\", \"and she is\",\n",
    "      g_age, \"old\")"
   ]
  },
  {
   "cell_type": "markdown",
   "id": "aac4f5c5",
   "metadata": {},
   "source": [
    "### Exercise 1.1"
   ]
  },
  {
   "cell_type": "code",
   "execution_count": 45,
   "id": "60115c46",
   "metadata": {},
   "outputs": [
    {
     "name": "stdout",
     "output_type": "stream",
     "text": [
      "* \n",
      "\n",
      "* * \n",
      "\n",
      "* * * \n",
      "\n",
      "* * * * \n",
      "\n"
     ]
    }
   ],
   "source": [
    "for i in range(4):\n",
    "    for j in range(i+1):\n",
    "        print(\"*\", end = \" \")\n",
    "    print(\"\\n\")"
   ]
  },
  {
   "cell_type": "markdown",
   "id": "08f6fea0",
   "metadata": {},
   "source": [
    "### Exerice 1.7"
   ]
  },
  {
   "cell_type": "code",
   "execution_count": 7,
   "id": "61de0eeb",
   "metadata": {},
   "outputs": [
    {
     "name": "stdout",
     "output_type": "stream",
     "text": [
      "Enter your height:\n",
      "52\n",
      "Enter your weight:\n",
      "78\n",
      "Your BMI is  20.278846153846153\n"
     ]
    }
   ],
   "source": [
    "height = float(input(\"Enter your height:\\n\"))\n",
    "weight = float(input('Enter your weight:\\n'))\n",
    "BMI=(703*weight)/height**2\n",
    "print(\"Your BMI is \",  BMI)"
   ]
  },
  {
   "cell_type": "code",
   "execution_count": 46,
   "id": "9a19db19",
   "metadata": {},
   "outputs": [],
   "source": [
    "sep = 'end = \"   \"'\n",
    "for i in range(5):\n",
    "    input(\"Enter an integer:\", \n",
    "         )"
   ]
  },
  {
   "cell_type": "markdown",
   "id": "ccee6c53",
   "metadata": {},
   "source": [
    "### Function"
   ]
  },
  {
   "cell_type": "code",
   "execution_count": 22,
   "id": "b755ecca",
   "metadata": {},
   "outputs": [
    {
     "ename": "SyntaxError",
     "evalue": "invalid syntax (<ipython-input-22-6e1b1d9a5af4>, line 1)",
     "output_type": "error",
     "traceback": [
      "\u001b[0;36m  File \u001b[0;32m\"<ipython-input-22-6e1b1d9a5af4>\"\u001b[0;36m, line \u001b[0;32m1\u001b[0m\n\u001b[0;31m    def(salary, expendenture):\u001b[0m\n\u001b[0m       ^\u001b[0m\n\u001b[0;31mSyntaxError\u001b[0m\u001b[0;31m:\u001b[0m invalid syntax\n"
     ]
    }
   ],
   "source": [
    "def(salary, expendenture):\n",
    "    salary = float(input(\"Enter your salary\"))\n",
    "    expendicture = float(input(\"Enter your spending\"))\n",
    "    mes = print(\"It restes you \", salary - expendicture)\n",
    "    return mes"
   ]
  },
  {
   "cell_type": "code",
   "execution_count": 25,
   "id": "390a74be",
   "metadata": {},
   "outputs": [
    {
     "name": "stdout",
     "output_type": "stream",
     "text": [
      "Enter your wordffekfglfa\n",
      "ffekfglfa 1\n",
      "ffekfglfa 2\n",
      "ffekfglfa 3\n",
      "ffekfglfa 4\n",
      "ffekfglfa 5\n",
      "ffekfglfa 6\n",
      "ffekfglfa 7\n",
      "ffekfglfa 8\n",
      "ffekfglfa 9\n",
      "ffekfglfa 10\n",
      "ffekfglfa 11\n",
      "ffekfglfa 12\n",
      "ffekfglfa 13\n",
      "ffekfglfa 14\n",
      "ffekfglfa 15\n",
      "ffekfglfa 16\n",
      "ffekfglfa 17\n",
      "ffekfglfa 18\n",
      "ffekfglfa 19\n",
      "ffekfglfa 20\n",
      "ffekfglfa 21\n",
      "ffekfglfa 22\n",
      "ffekfglfa 23\n",
      "ffekfglfa 24\n",
      "ffekfglfa 25\n"
     ]
    }
   ],
   "source": [
    "word = input(\"Enter your word\")\n",
    "for index in range(25):\n",
    "    print(word, index+1)"
   ]
  },
  {
   "cell_type": "code",
   "execution_count": 34,
   "id": "c3623dbc",
   "metadata": {},
   "outputs": [
    {
     "name": "stdout",
     "output_type": "stream",
     "text": [
      "1 4 9 16 25 36 49 64 81 100 121 144 169 196 225 256 289 324 361 400 "
     ]
    }
   ],
   "source": [
    "for i in range(20):\n",
    "    print((i+1)**2, end = ' ')"
   ]
  },
  {
   "cell_type": "code",
   "execution_count": 3,
   "id": "ad79797c",
   "metadata": {},
   "outputs": [
    {
     "ename": "KeyboardInterrupt",
     "evalue": "Interrupted by user",
     "output_type": "error",
     "traceback": [
      "\u001b[0;31m---------------------------------------------------------------------------\u001b[0m",
      "\u001b[0;31mKeyboardInterrupt\u001b[0m                         Traceback (most recent call last)",
      "\u001b[0;32m<ipython-input-3-32738ed534a7>\u001b[0m in \u001b[0;36m<module>\u001b[0;34m\u001b[0m\n\u001b[0;32m----> 1\u001b[0;31m \u001b[0my\u001b[0m \u001b[0;34m=\u001b[0m \u001b[0mint\u001b[0m\u001b[0;34m(\u001b[0m\u001b[0minput\u001b[0m\u001b[0;34m(\u001b[0m\u001b[0;34m\"Enter the year:\\n\"\u001b[0m\u001b[0;34m)\u001b[0m\u001b[0;34m)\u001b[0m\u001b[0;34m\u001b[0m\u001b[0;34m\u001b[0m\u001b[0m\n\u001b[0m\u001b[1;32m      2\u001b[0m \u001b[0mm\u001b[0m \u001b[0;34m=\u001b[0m \u001b[0mint\u001b[0m\u001b[0;34m(\u001b[0m\u001b[0minput\u001b[0m\u001b[0;34m(\u001b[0m\u001b[0;34m\"Enter the month:\\n\"\u001b[0m\u001b[0;34m)\u001b[0m\u001b[0;34m)\u001b[0m\u001b[0;34m\u001b[0m\u001b[0;34m\u001b[0m\u001b[0m\n\u001b[1;32m      3\u001b[0m \u001b[0md\u001b[0m \u001b[0;34m=\u001b[0m \u001b[0mint\u001b[0m\u001b[0;34m(\u001b[0m\u001b[0minput\u001b[0m\u001b[0;34m(\u001b[0m\u001b[0;34m\"Enter day:\\n\"\u001b[0m\u001b[0;34m)\u001b[0m\u001b[0;34m)\u001b[0m\u001b[0;34m\u001b[0m\u001b[0;34m\u001b[0m\u001b[0m\n\u001b[1;32m      4\u001b[0m \u001b[0mp\u001b[0m \u001b[0;34m=\u001b[0m \u001b[0;34m(\u001b[0m\u001b[0;36m14\u001b[0m\u001b[0;34m-\u001b[0m\u001b[0mm\u001b[0m\u001b[0;34m)\u001b[0m\u001b[0;34m//\u001b[0m\u001b[0;36m12\u001b[0m\u001b[0;34m\u001b[0m\u001b[0;34m\u001b[0m\u001b[0m\n\u001b[1;32m      5\u001b[0m \u001b[0mq\u001b[0m \u001b[0;34m=\u001b[0m \u001b[0my\u001b[0m \u001b[0;34m-\u001b[0m\u001b[0mp\u001b[0m\u001b[0;34m\u001b[0m\u001b[0;34m\u001b[0m\u001b[0m\n",
      "\u001b[0;32m/usr/lib/python3/dist-packages/ipykernel/kernelbase.py\u001b[0m in \u001b[0;36mraw_input\u001b[0;34m(self, prompt)\u001b[0m\n\u001b[1;32m    855\u001b[0m                 \u001b[0;34m\"raw_input was called, but this frontend does not support input requests.\"\u001b[0m\u001b[0;34m\u001b[0m\u001b[0;34m\u001b[0m\u001b[0m\n\u001b[1;32m    856\u001b[0m             )\n\u001b[0;32m--> 857\u001b[0;31m         return self._input_request(str(prompt),\n\u001b[0m\u001b[1;32m    858\u001b[0m             \u001b[0mself\u001b[0m\u001b[0;34m.\u001b[0m\u001b[0m_parent_ident\u001b[0m\u001b[0;34m,\u001b[0m\u001b[0;34m\u001b[0m\u001b[0;34m\u001b[0m\u001b[0m\n\u001b[1;32m    859\u001b[0m             \u001b[0mself\u001b[0m\u001b[0;34m.\u001b[0m\u001b[0m_parent_header\u001b[0m\u001b[0;34m,\u001b[0m\u001b[0;34m\u001b[0m\u001b[0;34m\u001b[0m\u001b[0m\n",
      "\u001b[0;32m/usr/lib/python3/dist-packages/ipykernel/kernelbase.py\u001b[0m in \u001b[0;36m_input_request\u001b[0;34m(self, prompt, ident, parent, password)\u001b[0m\n\u001b[1;32m    899\u001b[0m             \u001b[0;32mexcept\u001b[0m \u001b[0mKeyboardInterrupt\u001b[0m\u001b[0;34m:\u001b[0m\u001b[0;34m\u001b[0m\u001b[0;34m\u001b[0m\u001b[0m\n\u001b[1;32m    900\u001b[0m                 \u001b[0;31m# re-raise KeyboardInterrupt, to truncate traceback\u001b[0m\u001b[0;34m\u001b[0m\u001b[0;34m\u001b[0m\u001b[0;34m\u001b[0m\u001b[0m\n\u001b[0;32m--> 901\u001b[0;31m                 \u001b[0;32mraise\u001b[0m \u001b[0mKeyboardInterrupt\u001b[0m\u001b[0;34m(\u001b[0m\u001b[0;34m\"Interrupted by user\"\u001b[0m\u001b[0;34m)\u001b[0m \u001b[0;32mfrom\u001b[0m \u001b[0;32mNone\u001b[0m\u001b[0;34m\u001b[0m\u001b[0;34m\u001b[0m\u001b[0m\n\u001b[0m\u001b[1;32m    902\u001b[0m             \u001b[0;32mexcept\u001b[0m \u001b[0mException\u001b[0m \u001b[0;32mas\u001b[0m \u001b[0me\u001b[0m\u001b[0;34m:\u001b[0m\u001b[0;34m\u001b[0m\u001b[0;34m\u001b[0m\u001b[0m\n\u001b[1;32m    903\u001b[0m                 \u001b[0mself\u001b[0m\u001b[0;34m.\u001b[0m\u001b[0mlog\u001b[0m\u001b[0;34m.\u001b[0m\u001b[0mwarning\u001b[0m\u001b[0;34m(\u001b[0m\u001b[0;34m\"Invalid Message:\"\u001b[0m\u001b[0;34m,\u001b[0m \u001b[0mexc_info\u001b[0m\u001b[0;34m=\u001b[0m\u001b[0;32mTrue\u001b[0m\u001b[0;34m)\u001b[0m\u001b[0;34m\u001b[0m\u001b[0;34m\u001b[0m\u001b[0m\n",
      "\u001b[0;31mKeyboardInterrupt\u001b[0m: Interrupted by user"
     ]
    }
   ],
   "source": [
    "y = int(input(\"Enter the year:\\n\"))\n",
    "m = int(input(\"Enter the month:\\n\"))\n",
    "d = int(input(\"Enter day:\\n\"))\n",
    "p = (14-m)//12\n",
    "q = y -p\n",
    "r = q + q//4-q//100+q//400\n",
    "s = m+12*p-2\n",
    "t = (d+r+31*s//12) % 7\n",
    "days =[\"Sunday\", \"Monday\", \"Tuesday\", \"Wednesday\", \"Thursday\", \"Friday\", \"Saturday\"]\n",
    "print(\"The date is: \", days[t], d, \"/\", m, \"/\" , y)"
   ]
  },
  {
   "cell_type": "code",
   "execution_count": null,
   "id": "f1f20edd",
   "metadata": {},
   "outputs": [],
   "source": [
    "print(\"Comment tu vas?\")"
   ]
  },
  {
   "cell_type": "code",
   "execution_count": null,
   "id": "dc856cdd",
   "metadata": {},
   "outputs": [],
   "source": [
    "print(\"bjr bon guy\")"
   ]
  },
  {
   "cell_type": "code",
   "execution_count": null,
   "id": "8ab01639",
   "metadata": {},
   "outputs": [],
   "source": [
    "print(1+1)"
   ]
  },
  {
   "cell_type": "code",
   "execution_count": 4,
   "id": "2440c32d",
   "metadata": {},
   "outputs": [
    {
     "name": "stdout",
     "output_type": "stream",
     "text": [
      "11\n"
     ]
    }
   ],
   "source": [
    "a = 7\n",
    "while a <= 10:\n",
    "    a = a+1\n",
    "print(a)"
   ]
  },
  {
   "cell_type": "code",
   "execution_count": 6,
   "id": "d6d2f7e5",
   "metadata": {},
   "outputs": [
    {
     "data": {
      "text/plain": [
       "[0, 1, 4]"
      ]
     },
     "execution_count": 6,
     "metadata": {},
     "output_type": "execute_result"
    }
   ],
   "source": [
    "[x**2 for x in range(3)]"
   ]
  },
  {
   "cell_type": "code",
   "execution_count": 27,
   "id": "747c44b4",
   "metadata": {},
   "outputs": [
    {
     "ename": "SyntaxError",
     "evalue": "cannot assign to literal (<ipython-input-27-2dcb0ff12643>, line 10)",
     "output_type": "error",
     "traceback": [
      "\u001b[0;36m  File \u001b[0;32m\"<ipython-input-27-2dcb0ff12643>\"\u001b[0;36m, line \u001b[0;32m10\u001b[0m\n\u001b[0;31m    r = 1, x0 = -c/b\u001b[0m\n\u001b[0m        ^\u001b[0m\n\u001b[0;31mSyntaxError\u001b[0m\u001b[0;31m:\u001b[0m cannot assign to literal\n"
     ]
    }
   ],
   "source": [
    "t = [\"a\", \"b\", \"c\"]\n",
    "i = 0\n",
    "print(\"Let's solve quadratic equation: ax^2 + bx + c = 0\\n\")\n",
    "while i < 3:\n",
    "    t[i] = float(input(\"Enter the parameter value number:\"))\n",
    "    i = i+1\n",
    "if a == 0:\n",
    "    if b == 0: r = 0\n",
    "    else: \n",
    "        r = 1, x0 = -c/b\n",
    "else:\n",
    "    delta = b**2-4*a*c\n",
    "    if delta < 0: r = 0\n",
    "    if delta == 0:r = 1, x1 = -b/(2*a)\n",
    "    else:r = 2\n",
    "        \n",
    "if r == 0:\n",
    "    print(\"The equation has no solutions\")\n",
    "if r == 1:\n",
    "    if a == 0: print(\"The unique solution of the equatio is\", x0)\n",
    "    else: print(\"The unique solution of the equation i\", x1)\n",
    "if r == 2:print(\"The equation has two distincts solutions x_1 and x_2 such as x_1=:\", \n",
    "                (-b-sqrt(delta))/2*a, \"x_2 = \", (-b + sqrt(delta))/2*a)\n",
    "        "
   ]
  },
  {
   "cell_type": "code",
   "execution_count": 38,
   "id": "fc0e5d37",
   "metadata": {},
   "outputs": [],
   "source": [
    "data = {\"name\":[\"Ivana\", \"Urielle\", \"Noé\", \"Elisée\", \"Stevie\", \"Darius\", \"Marcel\", \"Taoufic\", \"Amos\", \"Ornella\"], \n",
    "       \"age\":[100,15,12, 8,7, 16,20,18,15,18],\n",
    "        \"gender\":[\"F\", \"F\", \"M\", \"M\", \"F\", \"M\", \"M\",\"M\",\"M\",\"F\"], \n",
    "        \"income($)\":[200,12,123, 123, 321, 838, 21, 365,973, 383]}"
   ]
  },
  {
   "cell_type": "code",
   "execution_count": 39,
   "id": "0077f4a1",
   "metadata": {},
   "outputs": [],
   "source": [
    "import pandas as pd\n",
    "dataframe = pd.DataFrame(data, columns = [\"name\", \"age\", \"gender\", \"income($)\"])"
   ]
  },
  {
   "cell_type": "code",
   "execution_count": 40,
   "id": "2233c5aa",
   "metadata": {},
   "outputs": [
    {
     "data": {
      "text/html": [
       "<div>\n",
       "<style scoped>\n",
       "    .dataframe tbody tr th:only-of-type {\n",
       "        vertical-align: middle;\n",
       "    }\n",
       "\n",
       "    .dataframe tbody tr th {\n",
       "        vertical-align: top;\n",
       "    }\n",
       "\n",
       "    .dataframe thead th {\n",
       "        text-align: right;\n",
       "    }\n",
       "</style>\n",
       "<table border=\"1\" class=\"dataframe\">\n",
       "  <thead>\n",
       "    <tr style=\"text-align: right;\">\n",
       "      <th></th>\n",
       "      <th>name</th>\n",
       "      <th>age</th>\n",
       "      <th>gender</th>\n",
       "      <th>income($)</th>\n",
       "    </tr>\n",
       "  </thead>\n",
       "  <tbody>\n",
       "    <tr>\n",
       "      <th>0</th>\n",
       "      <td>Ivana</td>\n",
       "      <td>100</td>\n",
       "      <td>F</td>\n",
       "      <td>200</td>\n",
       "    </tr>\n",
       "    <tr>\n",
       "      <th>1</th>\n",
       "      <td>Urielle</td>\n",
       "      <td>15</td>\n",
       "      <td>F</td>\n",
       "      <td>12</td>\n",
       "    </tr>\n",
       "    <tr>\n",
       "      <th>2</th>\n",
       "      <td>Noé</td>\n",
       "      <td>12</td>\n",
       "      <td>M</td>\n",
       "      <td>123</td>\n",
       "    </tr>\n",
       "    <tr>\n",
       "      <th>3</th>\n",
       "      <td>Elisée</td>\n",
       "      <td>8</td>\n",
       "      <td>M</td>\n",
       "      <td>123</td>\n",
       "    </tr>\n",
       "    <tr>\n",
       "      <th>4</th>\n",
       "      <td>Stevie</td>\n",
       "      <td>7</td>\n",
       "      <td>F</td>\n",
       "      <td>321</td>\n",
       "    </tr>\n",
       "    <tr>\n",
       "      <th>5</th>\n",
       "      <td>Darius</td>\n",
       "      <td>16</td>\n",
       "      <td>M</td>\n",
       "      <td>838</td>\n",
       "    </tr>\n",
       "    <tr>\n",
       "      <th>6</th>\n",
       "      <td>Marcel</td>\n",
       "      <td>20</td>\n",
       "      <td>M</td>\n",
       "      <td>21</td>\n",
       "    </tr>\n",
       "    <tr>\n",
       "      <th>7</th>\n",
       "      <td>Taoufic</td>\n",
       "      <td>18</td>\n",
       "      <td>M</td>\n",
       "      <td>365</td>\n",
       "    </tr>\n",
       "    <tr>\n",
       "      <th>8</th>\n",
       "      <td>Amos</td>\n",
       "      <td>15</td>\n",
       "      <td>M</td>\n",
       "      <td>973</td>\n",
       "    </tr>\n",
       "    <tr>\n",
       "      <th>9</th>\n",
       "      <td>Ornella</td>\n",
       "      <td>18</td>\n",
       "      <td>F</td>\n",
       "      <td>383</td>\n",
       "    </tr>\n",
       "  </tbody>\n",
       "</table>\n",
       "</div>"
      ],
      "text/plain": [
       "      name  age gender  income($)\n",
       "0    Ivana  100      F        200\n",
       "1  Urielle   15      F         12\n",
       "2      Noé   12      M        123\n",
       "3   Elisée    8      M        123\n",
       "4   Stevie    7      F        321\n",
       "5   Darius   16      M        838\n",
       "6   Marcel   20      M         21\n",
       "7  Taoufic   18      M        365\n",
       "8     Amos   15      M        973\n",
       "9  Ornella   18      F        383"
      ]
     },
     "execution_count": 40,
     "metadata": {},
     "output_type": "execute_result"
    }
   ],
   "source": [
    "dataframe"
   ]
  },
  {
   "cell_type": "code",
   "execution_count": null,
   "id": "aa4edfd5",
   "metadata": {},
   "outputs": [],
   "source": []
  }
 ],
 "metadata": {
  "kernelspec": {
   "display_name": "Python 3",
   "language": "python",
   "name": "python3"
  },
  "language_info": {
   "codemirror_mode": {
    "name": "ipython",
    "version": 3
   },
   "file_extension": ".py",
   "mimetype": "text/x-python",
   "name": "python",
   "nbconvert_exporter": "python",
   "pygments_lexer": "ipython3",
   "version": "3.9.5"
  }
 },
 "nbformat": 4,
 "nbformat_minor": 5
}
